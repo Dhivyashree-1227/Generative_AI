{
  "cells": [
    {
      "cell_type": "code",
      "execution_count": null,
      "metadata": {
        "colab": {
          "background_save": true,
          "base_uri": "https://localhost:8080/"
        },
        "id": "x7ujhgYKS0LV",
        "outputId": "6bcfafd1-09ac-46af-e809-b50566c77baa"
      },
      "outputs": [
        {
          "name": "stdout",
          "output_type": "stream",
          "text": [
            "AI Chatbot: Hello! Ask me anything. Type 'exit' to end the chat.\n"
          ]
        }
      ],
      "source": [
        "import openai\n",
        "\n",
        "def chatbot():\n",
        "    print(\"AI Chatbot: Hello! Ask me anything. Type 'exit' to end the chat.\")\n",
        "\n",
        "    while True:\n",
        "        user_input = input(\"You: \")\n",
        "\n",
        "        if user_input.lower() == 'exit':\n",
        "            print(\"AI Chatbot: Goodbye!\")\n",
        "            break\n",
        "\n",
        "        response = get_gpt4_response(user_input)\n",
        "        print(\"AI Chatbot:\", response)\n",
        "\n",
        "def get_gpt4_response(prompt):\n",
        "    openai.api_key = \"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\"\n",
        "\n",
        "    try:\n",
        "        response = openai.ChatCompletion.create(\n",
        "            model=\"gpt-3.5-turbo\",\n",
        "            messages=[{\"role\": \"system\", \"content\": \"You are a helpful chatbot.\"},\n",
        "                      {\"role\": \"user\", \"content\": prompt}]\n",
        "        )\n",
        "        return response[\"choices\"][0][\"message\"][\"content\"]\n",
        "    except Exception as e:\n",
        "        return f\"Error: {str(e)}\"\n",
        "\n",
        "if __name__ == \"__main__\":\n",
        "    chatbot()\n"
      ]
    },
    {
      "cell_type": "code",
      "execution_count": null,
      "metadata": {
        "id": "bvxvQFvgTOv8"
      },
      "outputs": [],
      "source": []
    }
  ],
  "metadata": {
    "colab": {
      "provenance": []
    },
    "kernelspec": {
      "display_name": "Python 3",
      "name": "python3"
    },
    "language_info": {
      "name": "python"
    }
  },
  "nbformat": 4,
  "nbformat_minor": 0
}